{
 "cells": [
  {
   "cell_type": "markdown",
   "metadata": {},
   "source": [
    "\n",
    "\n",
    "Date: 26/08/2018\n",
    "\n",
    "Environment: Python 3.6.0 and Anaconda 4.3.0 (64-bit)\n",
    "\n",
    "Libraries used:\n",
    "* re 2.2.1 (for regular expression) \n",
    "\n",
    "\n",
    "## 1. Introduction\n",
    "This assignment involves parsing raw text files . There are a total of 30,687 job postings which are to be extracted into a structured dataset from a text file. T\n",
    "\n",
    "\n",
    "More details for each task will be given in the following sections."
   ]
  },
  {
   "cell_type": "markdown",
   "metadata": {},
   "source": [
    "## 2.  Import libraries "
   ]
  },
  {
   "cell_type": "code",
   "execution_count": 18,
   "metadata": {},
   "outputs": [],
   "source": [
    "import re\n",
    "import json"
   ]
  },
  {
   "cell_type": "markdown",
   "metadata": {},
   "source": [
    "## 3.  Opening  Files\n",
    "\n",
    "The job postings file is opened and converted  to a string.\n",
    "\n",
    "Upon observing the contents of the file, one can see each posting is delimited with the string \"------------------------------\".\n",
    "This string was used as a delimiter to split the string into individual job postings. The length of the resulting list implies the file contains 30,687 job postings."
   ]
  },
  {
   "cell_type": "code",
   "execution_count": 2,
   "metadata": {},
   "outputs": [
    {
     "name": "stdout",
     "output_type": "stream",
     "text": [
      "30687\n"
     ]
    }
   ],
   "source": [
    "file = open(\"29466695.dat\",\"r+\")\n",
    "file_string = file.read()\n",
    "job = file_string.split(\"------------------------------\")\n",
    "print(len(job))"
   ]
  },
  {
   "cell_type": "markdown",
   "metadata": {},
   "source": [
    "## 4.  Extracting Information \n",
    "While perusing the contents of the file, it soon became clear the pattern of a job posting.\n",
    "\n",
    "Each job posting consisted of various categories e.g. `ID` or `JOB DESCRIPTION`, followed by a colon or a forward slash and then the information pertaining to that category. The next step was to design a regular expression (regex) which could capture this data.\n",
    "\n",
    "Each posting was divided into a section. A section consists of a category and its pertaining information. A section begins with a category, which is then followed by its relevant information; the section is ended when either:\n",
    "    1. Another section is encountered\n",
    "    2. The job posting has ended\n",
    "The regex would therefore look like: `(Opening category)(Information)(Closing category)`.\n",
    "\n",
    "I will detail my method for developing the regex in the following cells."
   ]
  },
  {
   "cell_type": "markdown",
   "metadata": {},
   "source": [
    "### a. Finding Category Keys\n",
    "\n",
    "The first challenge was categories in the postings could take various forms. For example, job responsibilities could be of type `job_resps` or `resp`. From here on, I will refer to these category variations as **keys**.\n",
    "\n",
    "The first regular expression I designed was of the form:\n",
    "```python \n",
    "r'''^           # (1)\n",
    "(_)?            # (2)\n",
    "[a-zA-Z]+       # (3)\n",
    "([\\s_][\\w]+)?   # (4)\n",
    "[:/]            # (5)\n",
    "'''\n",
    "```\n",
    "This regex says `(1)` from the start of the line `(2)`the string of characters may begin with an underscore '\\_' and then `(3)` will have at least one letter (upper or lowercase). `(4)` This letter(s) may be followed by another string of characters. In this case, it will have either a space or an underscore and at least one alphanumeric character. `(5)` The expression must end in a colon or forward slash.\n",
    "\n",
    "However, the results contained some multiline strings of format: `word\\nword[:/]`.\n",
    "\n",
    "To avoid this, I added a lookahead `?!\\n` after the first string to ensure there was no newline character after it. The resulting regex:\n",
    "```python \n",
    "r\"^(_)?[a-zA-Z]+(?!\\n)([\\s_][\\w]+)?[:/]\"\n",
    "```\n"
   ]
  },
  {
   "cell_type": "code",
   "execution_count": 3,
   "metadata": {},
   "outputs": [],
   "source": [
    "#all possible candidates are found\n",
    "candidates=re.finditer(r\"^(_)?[a-zA-Z]+(?!\\n)([\\s_][\\w]+)?[:/]\",file_string,re.MULTILINE)"
   ]
  },
  {
   "cell_type": "code",
   "execution_count": 4,
   "metadata": {},
   "outputs": [],
   "source": [
    "#candidates are standardized by removing colon and forward slash and converting to same case\n",
    "key_candidates=[]\n",
    "#candidates added to a list\n",
    "for item in candidates:\n",
    "    item=item.group(0)\n",
    "    if item != '':\n",
    "        temp=item.strip(\":\").strip(\"/\")\n",
    "        key_candidates.append(temp.upper())"
   ]
  },
  {
   "cell_type": "code",
   "execution_count": 5,
   "metadata": {},
   "outputs": [
    {
     "data": {
      "text/plain": [
       "1931"
      ]
     },
     "execution_count": 5,
     "metadata": {},
     "output_type": "execute_result"
    }
   ],
   "source": [
    "#the resulting list had 1931 candidates\n",
    "key_candidates_set = set(key_candidates)\n",
    "len(key_candidates_set)"
   ]
  },
  {
   "cell_type": "markdown",
   "metadata": {},
   "source": [
    "### b. Reducing Candidate List\n",
    "\n",
    "The resulting candidate list was too long to work with. To reduce the number of candidate keys to analyse, I created a dictionary consisting of the count of each candidate. I added a cutoff point of 10 for the count of each candidate. I reasoned potential data lost is miniscule in comparison to the the data size.\n",
    "\n",
    "The resulting list of candidates was whittled down 1931 to 314.\n",
    "\n",
    "From the resulting list, I quickly deleted all candidates which were semantically implausible (over 100), e.g: \"cc to\". I then inspected the context of the remaining list of candidates. The final list comprised of 56 keys.\n",
    "\n",
    "The output of this section is a list of keys, grouped by each category."
   ]
  },
  {
   "cell_type": "code",
   "execution_count": 6,
   "metadata": {},
   "outputs": [
    {
     "data": {
      "text/plain": [
       "314"
      ]
     },
     "execution_count": 6,
     "metadata": {},
     "output_type": "execute_result"
    }
   ],
   "source": [
    "val={}\n",
    "for item in key_candidates_set:\n",
    "    count=key_candidates.count(item)\n",
    "    if count>10:\n",
    "        val[item]=count\n",
    "len(val)"
   ]
  },
  {
   "cell_type": "markdown",
   "metadata": {},
   "source": [
    "The resulting keys are provided below."
   ]
  },
  {
   "cell_type": "code",
   "execution_count": null,
   "metadata": {},
   "outputs": [],
   "source": [
    "keys='''ID[:/]|\n",
    "\n",
    "APPLICATION_DEADL[:/]|\n",
    "APPLICATION_DL[:/]|\n",
    "DEADLINE[:/]|\n",
    "DEADLINES[:/]|\n",
    "DEAD_LINE[:/]|\n",
    "\n",
    "JOB_SAL[:/]|\n",
    "SALARY[:/]|\n",
    "REMUNERATION/|\n",
    "REMUNERATION:|\n",
    "\n",
    "JOB_LOC[:/]|\n",
    "LOCATION[:/]|\n",
    "LOCATIONS[:/]|\n",
    "_LOC[:/]|\n",
    "_LOCS[:/]|\n",
    "\n",
    "JOB DESCRIPTION[:/]|\n",
    "_DESCRIPTION[:/]|\n",
    "JOB_DESC[:/]|\n",
    "DESCRIPTION[:/]|\n",
    "\n",
    "TITLE[:/]|\n",
    "TITLES[:/]|\n",
    "JOB TITLE[:/]|\n",
    "_TTL[:/]|\n",
    "JOB_T[:/]|\n",
    "\n",
    "JOB_PROC[:/]|\n",
    "JOB_PROCS[:/]|\n",
    "PROCEDURE[:/]|\n",
    "PROCEDURES[:/]|\n",
    "\n",
    "JOB_RESPS[:/]|\n",
    "RESP[:/]|\n",
    "RESPONSIBILITIES[:/]|\n",
    "RESPONSIBILITY[:/]|\n",
    "JOB RESPONSIBILITIES[:/]|\n",
    "\n",
    "ABOUT[:/]|\n",
    "ABOUT COMPANY[:/]|\n",
    "ABOUT PROGRAM[:/]|\n",
    "ABOUT_COMPANY[:/]|\n",
    "_INFO[:/]|\n",
    "COMPANYS_INFO[:/]|\n",
    "\n",
    "QUALIFICATION[:/]|\n",
    "QUALIFICATIONS[:/]|\n",
    "QUALIFS[:/]|\n",
    "REQUIRED QUALIFICATIONS[:/]|\n",
    "REQ_QUALS[:/]|\n",
    "\n",
    "DATES/|\n",
    "DATE_START/|\n",
    "START DATE/|\n",
    "START_DA/|\n",
    "START_DATE/|\n",
    "OPEN TO/|\n",
    "DATES:|\n",
    "DATE_START:|\n",
    "START DATE:|\n",
    "START_DA:|\n",
    "START_DATE:|\n",
    "OPEN TO:|\n",
    "\n",
    "'''"
   ]
  },
  {
   "cell_type": "markdown",
   "metadata": {},
   "source": [
    "Keys are added to a list, grouped by category."
   ]
  },
  {
   "cell_type": "code",
   "execution_count": 7,
   "metadata": {},
   "outputs": [
    {
     "name": "stdout",
     "output_type": "stream",
     "text": [
      "56\n"
     ]
    }
   ],
   "source": [
    "\n",
    "#keys are split to form key list\n",
    "key_list = keys.split(\"\\n\")\n",
    "categories = []\n",
    "j = 0\n",
    "no_keys = 0\n",
    "for i in range (len(key_list)-1):\n",
    "    #each group of keys is separated by an empty string in the list.\n",
    "    #this code section slices the list using the empty string as an index\n",
    "    #output is a list of categories. Each category represents one group of keys\n",
    "    if key_list [i]=='':\n",
    "        category = key_list[j:i]\n",
    "        no_keys+= len(category)\n",
    "        categories.append(category)\n",
    "        j = i+1\n",
    "        \n",
    "print(no_keys)"
   ]
  },
  {
   "cell_type": "markdown",
   "metadata": {},
   "source": [
    "### c. Retriving Data and Building Dataset\n",
    "\n",
    "Now the list of keys has been generated. I can write a regex expression that retrieves the data.\n",
    "\n",
    "As aforementioned the regex expression will be of format: `(Opening category)(Information)(Closing category)`.\n",
    "\n",
    "####  Opening Category\n",
    "We will first look at the **Opening Category**. The opening category simply consists of the keys for that particular category.\n",
    "Using Application Deadline as an example, the regex for the opening category is:\n",
    "```python\n",
    "r\"^(APPLICATION_DEADL[:/]|APPLICATION_DL[:/]|DEADLINE[:/]|DEADLINES[:/]|DEAD_LINE[:/])\"\n",
    "```\n",
    "That is, the Application Deadline category will begin with `APPLICATION_DEADL[:/]` or `APPLICATION_DL[:/]` or `DEADLINE[:/]` or `DEADLINES[:/]` or `DEAD_LINE[:/]`.\n",
    "\n",
    "However, I had to compensate for the two categories-- Salary and Start Date-- which would occassionally occure twice in one job posting. For any key in either of those categories that ended with a forward slash '/', the resultant information is always null. Hence, I skipped such keys when building the opening category regex.\n",
    "\n",
    "####  Information\n",
    "The information category can be expressed as `(.*?)` in the regex expression. The question mark makes the regex expression lazy and stop at the first occurrence of the closing category. This was added after I discovered the regex was consistently matching till the last key.\n",
    "\n",
    "####  Closing Category\n",
    "The job postings all follow a general pattern regarding category order:\n",
    "\n",
    "`'listing' -> 'application_deadline' -> 'salary' -> 'location' -> 'job_descriptions' -> 'title' -> ('start_date') -> application_procedure' -> 'job_responsibilities' -> 'about_company' -> 'required_qualifications' -> ('salary') -> 'start_date'`\n",
    "\n",
    "\\***\\(\\)** denotes duplicate categories. \n",
    "\n",
    "However, one or more categories may be missing from a posting. At first I just put all the keys in the closing category. However, the regex was returning NaN's for all categories except ID. Hence, I modified the closing category to consist of all keys for **all** categeroies that ***could*** potentially follow the opening category.\n",
    "\n",
    "\n",
    "For instance, the closing category regex for Required Qualifications is:\n",
    "```python\n",
    "\"^(REMUNERATION/|DATES/|DATE_START/|START DATE/|START_DA/|START_DATE/|OPEN TO/|DATES:|DATE_START:|START DATE:|START_DA:|START_DATE:|OPEN TO:)\"\n",
    "```\n",
    "    We can see this follows the above listed pattern of '(salary)'->'start_date' which come after the opening category of 'required_qualifications'.\n",
    "\n",
    "\n",
    "Another consideration I made when building the closing category keys was for the repeat categories. For the start_date category, I put it as the last category option in the closing category regex. This is because a job posting always ends with a start_date category. Additionally, as it is the last option in the regex, it will only be selected if the other closing categories have not been matched. For the salary category, I noticed that the repeat will always have the key `REMUNERATION/`. Hence, this was used in the closing category for all opening categories that occur after salary ('location', 'job_description'... etc). The example above also illustrates this usage.\n",
    "\n",
    "---\n",
    "\n",
    "The regex for each category was iteratively built using the list of keys and the aformentioned patterns.\n",
    "\n",
    "The dataset was then iteratively built with the developed regex expressions and stored in a dictionary format."
   ]
  },
  {
   "cell_type": "code",
   "execution_count": 28,
   "metadata": {},
   "outputs": [
    {
     "data": {
      "text/plain": [
       "'^(TITLE[:/]|TITLES[:/]|JOB TITLE[:/]|_TTL[:/]|JOB_T[:/])(.*?)^(JOB_PROC[:/]|JOB_PROCS[:/]|PROCEDURE[:/]|PROCEDURES[:/]|JOB_RESPS[:/]|RESP[:/]|RESPONSIBILITIES[:/]|RESPONSIBILITY[:/]|JOB RESPONSIBILITIES[:/]|ABOUT[:/]|ABOUT COMPANY[:/]|ABOUT PROGRAM[:/]|ABOUT_COMPANY[:/]|_INFO[:/]|COMPANYS_INFO[:/]|QUALIFICATION[:/]|QUALIFICATIONS[:/]|QUALIFS[:/]|REQUIRED QUALIFICATIONS[:/]|REQ_QUALS[:/]|REMUNERATION/|DATES/|DATE_START/|START DATE/|START_DA/|START_DATE/|OPEN TO/|DATES:|DATE_START:|START DATE:|START_DA:|START_DATE:|OPEN TO:)'"
      ]
     },
     "execution_count": 28,
     "metadata": {},
     "output_type": "execute_result"
    }
   ],
   "source": [
    "def regex_info_and_close(category_list,index):\n",
    "    #the category_list has already been sorted for the pattern in which they occur in the job postings file.\n",
    "    #hence an opening category's closing category will consist of all items in the list of keys after its index\n",
    "    new_category_list=category_list[index+1:]\n",
    "    #the last category in the posting will end when the end of the posting is reached\n",
    "    if index==len(category_list)-1:\n",
    "        info_and_close='(.*)'\n",
    "    elif index <= 2:    \n",
    "        info_and_close='(.*?)^('\n",
    "        #all keys in new_category_list added to closing category\n",
    "        for i in range(len(new_category_list)):\n",
    "            category=new_category_list[i]\n",
    "            if i < len(new_category_list) - 1:\n",
    "                for keys in category:\n",
    "                    info_and_close+=keys.strip()              \n",
    "            else :\n",
    "                #we are at the last category\n",
    "                for keys in category:\n",
    "                    if keys != category[len(category)-1]:\n",
    "                        info_and_close+=keys.strip() \n",
    "                    else:\n",
    "                        #we are at the last key in the last category\n",
    "                        #closing parenthesis is added and the \"or\" character ('|') is removed for the last key in closing category\n",
    "                        info_and_close+=keys[:len(keys)-1].strip()+')'\n",
    "    \n",
    "    # the duplicate salary category needs to be re-added to closing categories as it is filtered out after salary has been the opening category\n",
    "    #which is after index number 2.\n",
    "    #The duplicate salary category will always have key `REMUNERATION/`\n",
    "    else:\n",
    "        info_and_close='(.*?)^('\n",
    "        for i in range(len(new_category_list)):\n",
    "            category=new_category_list[i]\n",
    "            if i < len(new_category_list) - 1:\n",
    "                for keys in category:\n",
    "                    info_and_close+=keys.strip()              \n",
    "            else :\n",
    "                info_and_close+='REMUNERATION/|'\n",
    "                for keys in category:\n",
    "                    if keys != category[len(category)-1]:\n",
    "                        info_and_close+=keys.strip() \n",
    "                    else:\n",
    "                        info_and_close+=keys[:len(keys)-1].strip()+')'\n",
    "            \n",
    "    return info_and_close\n",
    "\n",
    "regex_keys=[]\n",
    "\n",
    "for i in range (len(categories)):\n",
    "    #the beginning of the opening category\n",
    "    regex_open='^('\n",
    "    category=categories[i]\n",
    "    for j in range(len(category)):\n",
    "        key=category[j].strip()\n",
    "        if j<len(category)-1:\n",
    "            #as mentioned, these specific keys are bypassed in the opening category\n",
    "            if key[len(key)-2]!='/':\n",
    "                regex_open+=key\n",
    "        else:\n",
    "            #we are at the last key in the opening category\n",
    "            #complete regex expression is formed adding the opening category to the info and the closing category\n",
    "            if key[len(key)-2]!='/':\n",
    "                regex_open+=key[:len(key)-1]+')'+regex_info_and_close(categories,i)\n",
    "    regex_keys.append(regex_open)\n",
    "regex_keys[5]"
   ]
  },
  {
   "cell_type": "code",
   "execution_count": 9,
   "metadata": {},
   "outputs": [],
   "source": [
    "#dataset is iteratively built using the list of regex generated in the previous cells\n",
    "category_list = ['listing','application_deadline','salary','location','job_descriptions','title','application_procedure','job_responsibilities','about_company','required_qualifications','start_date']\n",
    "data = {}\n",
    "for i in range(len(category_list)):\n",
    "    data[category_list[i]]=[]\n",
    "    for j in range (len(job)):\n",
    "        #developed regex is used to extract data\n",
    "        #dotall to match mutliline sections\n",
    "        #multiline to match the expression from beginning of the line or string\n",
    "        #ignorecase to ignore case of keys\n",
    "        temp =re.findall(r\"\" + regex_keys[i],job[j],re.DOTALL|re.MULTILINE|re.IGNORECASE)\n",
    "        if temp!=[]:\n",
    "            data[category_list[i]].append(temp[0][1].strip())\n",
    "         # if the category is not present in the posting 'N/A' is added   \n",
    "        else:\n",
    "            data[category_list[i]].append('N/A')"
   ]
  },
  {
   "cell_type": "markdown",
   "metadata": {},
   "source": [
    "See below for an example of the constructed dataset."
   ]
  },
  {
   "cell_type": "code",
   "execution_count": 10,
   "metadata": {},
   "outputs": [
    {
     "name": "stdout",
     "output_type": "stream",
     "text": [
      "listing : 53640\n",
      "application_deadline : N/A\n",
      "salary : Highly competitive\n",
      "location : Yerevan, Armenia\n",
      "job_descriptions : N/A\n",
      "title : Area Sales Manager\n",
      "application_procedure : All interested and qualified candidates are\n",
      "encouraged to fill in the last updated version of HSBC Application Form\n",
      "attached to this announcement and email it to: vacancy.armenia@... .\n",
      "The old versions of application forms will not be reviewed. Only\n",
      "short-listed candidates will be invited for interviews. Please put in the\n",
      "subject line of the e-mail \"\"ITO Intern\"\".\n",
      "Please clearly mention in your application letter that you learned of\n",
      "this job opportunity through Career Center and mention the URL of its\n",
      "website - www.careercenter.am, Thanks.\n",
      "job_responsibilities : - Organize and manage marketing of the companys products abroad (in CIS\n",
      "countries); \n",
      "- Recruit companys representatives in CIS countries and be responsible\n",
      "for the efficiency of their work.\n",
      "about_company : Levon Travel has been operating in Armenian tourist\n",
      "industry for around 25 years.\n",
      "required_qualifications : - Candidates must have a basic, working understanding of boilers,\n",
      "heating, air conditioning, electrical, fire alarm and swimming pool\n",
      "water filtration systems. \n",
      "- They must be able to carry out simple, planned, preventive maintenance\n",
      "of mechanical and electrical services, recording and taking action on any\n",
      "defects or faulty equipment found.\n",
      "- The successful applicant should be able to understand technical\n",
      "drawings and manufacturers technical literature and order spare or\n",
      "replacement parts as necessary.\n",
      "- Candidates must also be able to supervise maintenance contractors.\n",
      "- Attention to detail and the drive to complete tasks in a timely manner\n",
      "are essential.\n",
      "- Experience: Minimum of three years working experience. Candidates\n",
      "should have prior experience of: electric systems; boiler/chiller and\n",
      "other related equipment.\n",
      "- Languages: Candidates should be fluent in Armenian and Russian. An\n",
      "ability to communicate in English is desirable but not essential.\n",
      "start_date : 18 June 2007\n"
     ]
    }
   ],
   "source": [
    "for i in range (len(category_list)):\n",
    "        key=category_list[i]\n",
    "        print(key,':',data[key][100])"
   ]
  },
  {
   "cell_type": "markdown",
   "metadata": {},
   "source": [
    "## References\n",
    "\n",
    "Sadik (2014, January 28). *How to check if a word is an English word with Python?*. Retrieved September 02, 2018, from https://stackoverflow.com/questions/3788870/how-to-check-if-a-word-is-an-english-word-with-python\n",
    "\n",
    "*Lesson 01: Introduction to XML*. Retrieved September 02, 2018, from http://www.functionx.com/xml/Lesson01.htm\n",
    "\n",
    "Iman Mirzadeh (2015, September 28)*Converting Dictionary to JSON in python.* Retrieved September 02, 2018, from https://stackoverflow.com/questions/26745519/converting-dictionary-to-json-in-python"
   ]
  }
 ],
 "metadata": {
  "kernelspec": {
   "display_name": "Python 3",
   "language": "python",
   "name": "python3"
  },
  "language_info": {
   "codemirror_mode": {
    "name": "ipython",
    "version": 3
   },
   "file_extension": ".py",
   "mimetype": "text/x-python",
   "name": "python",
   "nbconvert_exporter": "python",
   "pygments_lexer": "ipython3",
   "version": "3.7.0"
  }
 },
 "nbformat": 4,
 "nbformat_minor": 2
}
