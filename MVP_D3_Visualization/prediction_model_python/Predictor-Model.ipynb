{
 "cells": [
  {
   "cell_type": "markdown",
   "metadata": {},
   "source": [
    "In this program, we will build the classifier to be used for the visualization."
   ]
  },
  {
   "cell_type": "code",
   "execution_count": 44,
   "metadata": {},
   "outputs": [],
   "source": [
    "import pandas as pd\n",
    "import numpy\n",
    "from tensorflow.keras.models import Sequential\n",
    "from tensorflow.keras.layers import Dense,Dropout"
   ]
  },
  {
   "cell_type": "code",
   "execution_count": 58,
   "metadata": {},
   "outputs": [],
   "source": [
    "test= pd.read_csv(\"test.csv\")\n",
    "x_train = pd.read_csv('x_train.csv')\n",
    "y_train = pd.read_csv('y_train.csv',header=None)"
   ]
  },
  {
   "cell_type": "code",
   "execution_count": 60,
   "metadata": {},
   "outputs": [],
   "source": [
    "t = test.drop(columns=[\"Player\", \"Ballot\"])"
   ]
  },
  {
   "cell_type": "code",
   "execution_count": 61,
   "metadata": {},
   "outputs": [],
   "source": [
    "x_train.era=x_train.era.astype(str)\n",
    "t.era=t.era.astype(str)"
   ]
  },
  {
   "cell_type": "code",
   "execution_count": 62,
   "metadata": {},
   "outputs": [],
   "source": [
    "# normalize training data\n",
    "maxes=[]\n",
    "mins=[]\n",
    "valid = x_train[x_train.G>30]\n",
    "for key in x_train.columns[:-2]:    \n",
    "    mx = max(valid[key])\n",
    "    mn = min(valid[key])\n",
    "    maxes.append(mx)\n",
    "    mins.append(mn)\n",
    "    x_train[key]=(x_train[key]-mn)/(mx-mn)"
   ]
  },
  {
   "cell_type": "code",
   "execution_count": 64,
   "metadata": {},
   "outputs": [],
   "source": [
    "# normalize test data\n",
    "i=0\n",
    "for key in t.columns[:-2]:    \n",
    "    mx=maxes[i]\n",
    "    mn=mins[i]\n",
    "    t[key]=(t[key]-mn)/(mx-mn)\n",
    "    i+=1"
   ]
  },
  {
   "cell_type": "code",
   "execution_count": 65,
   "metadata": {},
   "outputs": [],
   "source": [
    "# one hot encode categorical data\n",
    "t.era=pd.Categorical(t.era, categories=x_train.era.unique(),ordered=False)\n",
    "x_train = pd.get_dummies(x_train)\n",
    "t = pd.get_dummies(t)\n",
    "\n",
    "\n",
    "y_test= test.Ballot\n",
    "x_test = t"
   ]
  },
  {
   "cell_type": "code",
   "execution_count": 70,
   "metadata": {},
   "outputs": [],
   "source": [
    "# build classifier \n",
    "model = Sequential()\n",
    "\n",
    "model.add(Dense(\n",
    "    units              = 23, \n",
    "    activation         = \"relu\", \n",
    "    input_dim        = 23))\n",
    "\n",
    "  # Dropout to prevent overfitting\n",
    "model.add(Dropout(rate=0.4))\n",
    "\n",
    "model.add(Dense(\n",
    "    units              = 23, \n",
    "    activation         = \"relu\"))\n",
    "\n",
    "\n",
    "#   # Dropout to prevent overfitting\n",
    "model.add(Dropout(rate=0.2))\n",
    "\n",
    "model.add(Dense(\n",
    "    units              = 1, \n",
    "    activation         = \"sigmoid\"))\n",
    "\n",
    "\n",
    "model.compile(\n",
    "    optimizer = 'adam',\n",
    "    loss      = 'binary_crossentropy',\n",
    "    metrics   = ['accuracy']\n",
    "  )\n",
    "\n"
   ]
  },
  {
   "cell_type": "code",
   "execution_count": 71,
   "metadata": {},
   "outputs": [
    {
     "name": "stderr",
     "output_type": "stream",
     "text": [
      "W0628 14:30:15.581768 139662613509952 training.py:593] The `nb_epoch` argument in `fit` has been renamed `epochs`.\n"
     ]
    },
    {
     "name": "stdout",
     "output_type": "stream",
     "text": [
      "Train on 15117 samples, validate on 1106 samples\n",
      "Epoch 1/4\n",
      "15117/15117 [==============================] - 24s 2ms/sample - loss: 0.0566 - acc: 0.9877 - val_loss: nan - val_acc: 0.9910\n",
      "Epoch 2/4\n",
      "15117/15117 [==============================] - 23s 2ms/sample - loss: 0.0298 - acc: 0.9889 - val_loss: nan - val_acc: 0.9910\n",
      "Epoch 3/4\n",
      "15117/15117 [==============================] - 24s 2ms/sample - loss: 0.0262 - acc: 0.9891 - val_loss: nan - val_acc: 0.9937\n",
      "Epoch 4/4\n",
      "15117/15117 [==============================] - 25s 2ms/sample - loss: 0.0254 - acc: 0.9901 - val_loss: nan - val_acc: 0.9928\n"
     ]
    },
    {
     "data": {
      "text/plain": [
       "<tensorflow.python.keras.callbacks.History at 0x7f056042d550>"
      ]
     },
     "execution_count": 71,
     "metadata": {},
     "output_type": "execute_result"
    }
   ],
   "source": [
    "# fit model\n",
    "model.fit(x_train, y_train, batch_size=1, nb_epoch=4,verbose=1, validation_data=(x_test, y_test) )"
   ]
  },
  {
   "cell_type": "code",
   "execution_count": 99,
   "metadata": {},
   "outputs": [],
   "source": [
    "# convert model to tensorflowjs \n",
    "import tensorflowjs as tfjs\n",
    "tfjs.converters.save_keras_model(model, '../MVP-predictor/')"
   ]
  }
 ],
 "metadata": {
  "kernelspec": {
   "display_name": "Python 3",
   "language": "python",
   "name": "python3"
  },
  "language_info": {
   "codemirror_mode": {
    "name": "ipython",
    "version": 3
   },
   "file_extension": ".py",
   "mimetype": "text/x-python",
   "name": "python",
   "nbconvert_exporter": "python",
   "pygments_lexer": "ipython3",
   "version": "3.7.0"
  }
 },
 "nbformat": 4,
 "nbformat_minor": 2
}
