{
 "cells": [
  {
   "cell_type": "markdown",
   "metadata": {},
   "source": [
    "# Simulating real-time data using Apache Kafka Producers.\n",
    "\n",
    "In this section we will implement multiple Apache Kafka producers to simulate the real-time streaming of the data which will be processed by Apache Spark Streaming client and then inserted into MongoDB. \n",
    "\n",
    "\n",
    "Description: A python program that loads all the data from hotspot_AQUA_streaming.csv and randomly feed the data to the stream every 10-30 seconds. AQUA is the satellite from NASA that reports latitude, longitude, confidence and surface temperature of a location. Some additional information such as sender_id and created_time are also appended.  "
   ]
  },
  {
   "cell_type": "code",
   "execution_count": null,
   "metadata": {},
   "outputs": [
    {
     "name": "stdout",
     "output_type": "stream",
     "text": [
      "Publishing records..\n",
      "Message published successfully. Data: {'confidence': 83, 'longitude': 145.9954, 'created_at': '19:48:22', 'sender_id': 'producer_2', 'latitude': -37.82, 'surface_temperature_celcius': 57}\n",
      "Message published successfully. Data: {'confidence': 69, 'longitude': 142.9437, 'created_at': '19:48:39', 'sender_id': 'producer_2', 'latitude': -37.7836, 'surface_temperature_celcius': 44}\n",
      "Message published successfully. Data: {'confidence': 100, 'longitude': 144.6259, 'created_at': '19:49:06', 'sender_id': 'producer_2', 'latitude': -36.6029, 'surface_temperature_celcius': 115}\n",
      "Message published successfully. Data: {'confidence': 82, 'longitude': 141.4277, 'created_at': '19:49:36', 'sender_id': 'producer_2', 'latitude': -36.3879, 'surface_temperature_celcius': 55}\n",
      "Message published successfully. Data: {'confidence': 78, 'longitude': 147.1366, 'created_at': '19:49:59', 'sender_id': 'producer_2', 'latitude': -36.7394, 'surface_temperature_celcius': 44}\n",
      "Message published successfully. Data: {'confidence': 93, 'longitude': 144.35399999999998, 'created_at': '19:50:25', 'sender_id': 'producer_2', 'latitude': -37.945, 'surface_temperature_celcius': 73}\n",
      "Message published successfully. Data: {'confidence': 68, 'longitude': 146.2301, 'created_at': '19:50:35', 'sender_id': 'producer_2', 'latitude': -37.1992, 'surface_temperature_celcius': 60}\n",
      "Message published successfully. Data: {'confidence': 77, 'longitude': 142.996, 'created_at': '19:50:58', 'sender_id': 'producer_2', 'latitude': -37.0411, 'surface_temperature_celcius': 51}\n",
      "Message published successfully. Data: {'confidence': 61, 'longitude': 143.433, 'created_at': '19:51:25', 'sender_id': 'producer_2', 'latitude': -38.5233, 'surface_temperature_celcius': 41}\n",
      "Message published successfully. Data: {'confidence': 62, 'longitude': 143.4528, 'created_at': '19:51:48', 'sender_id': 'producer_2', 'latitude': -38.0278, 'surface_temperature_celcius': 43}\n",
      "Message published successfully. Data: {'confidence': 65, 'longitude': 145.156, 'created_at': '19:52:17', 'sender_id': 'producer_2', 'latitude': -36.1188, 'surface_temperature_celcius': 42}\n",
      "Message published successfully. Data: {'confidence': 71, 'longitude': 148.118, 'created_at': '19:52:27', 'sender_id': 'producer_2', 'latitude': -37.453, 'surface_temperature_celcius': 34}\n",
      "Message published successfully. Data: {'confidence': 78, 'longitude': 147.1289, 'created_at': '19:52:41', 'sender_id': 'producer_2', 'latitude': -36.7652, 'surface_temperature_celcius': 39}\n",
      "Message published successfully. Data: {'confidence': 75, 'longitude': 143.5162, 'created_at': '19:53:09', 'sender_id': 'producer_2', 'latitude': -37.8294, 'surface_temperature_celcius': 49}\n",
      "Message published successfully. Data: {'confidence': 78, 'longitude': 143.3445, 'created_at': '19:53:21', 'sender_id': 'producer_2', 'latitude': -37.6593, 'surface_temperature_celcius': 52}\n",
      "Message published successfully. Data: {'confidence': 88, 'longitude': 146.5269, 'created_at': '19:53:33', 'sender_id': 'producer_2', 'latitude': -38.0132, 'surface_temperature_celcius': 73}\n",
      "Message published successfully. Data: {'confidence': 82, 'longitude': 141.0038, 'created_at': '19:53:57', 'sender_id': 'producer_2', 'latitude': -36.4528, 'surface_temperature_celcius': 55}\n",
      "Message published successfully. Data: {'confidence': 59, 'longitude': 142.8532, 'created_at': '19:54:25', 'sender_id': 'producer_2', 'latitude': -37.6857, 'surface_temperature_celcius': 40}\n",
      "Message published successfully. Data: {'confidence': 88, 'longitude': 141.8841, 'created_at': '19:54:35', 'sender_id': 'producer_2', 'latitude': -36.1598, 'surface_temperature_celcius': 64}\n",
      "Message published successfully. Data: {'confidence': 66, 'longitude': 141.9682, 'created_at': '19:55:02', 'sender_id': 'producer_2', 'latitude': -36.9071, 'surface_temperature_celcius': 49}\n",
      "Message published successfully. Data: {'confidence': 96, 'longitude': 143.365, 'created_at': '19:55:15', 'sender_id': 'producer_2', 'latitude': -37.475, 'surface_temperature_celcius': 77}\n",
      "Message published successfully. Data: {'confidence': 95, 'longitude': 142.1177, 'created_at': '19:55:31', 'sender_id': 'producer_2', 'latitude': -36.738, 'surface_temperature_celcius': 77}\n",
      "Message published successfully. Data: {'confidence': 57, 'longitude': 143.4607, 'created_at': '19:55:54', 'sender_id': 'producer_2', 'latitude': -37.9022, 'surface_temperature_celcius': 57}\n",
      "Message published successfully. Data: {'confidence': 74, 'longitude': 143.0024, 'created_at': '19:56:19', 'sender_id': 'producer_2', 'latitude': -37.637, 'surface_temperature_celcius': 48}\n",
      "Message published successfully. Data: {'confidence': 75, 'longitude': 142.0353, 'created_at': '19:56:37', 'sender_id': 'producer_2', 'latitude': -36.9357, 'surface_temperature_celcius': 48}\n",
      "Message published successfully. Data: {'confidence': 58, 'longitude': 141.8992, 'created_at': '19:56:49', 'sender_id': 'producer_2', 'latitude': -36.4944, 'surface_temperature_celcius': 40}\n",
      "Message published successfully. Data: {'confidence': 94, 'longitude': 143.0549, 'created_at': '19:57:10', 'sender_id': 'producer_2', 'latitude': -37.6982, 'surface_temperature_celcius': 73}\n",
      "Message published successfully. Data: {'confidence': 72, 'longitude': 141.2589, 'created_at': '19:57:36', 'sender_id': 'producer_2', 'latitude': -36.9116, 'surface_temperature_celcius': 46}\n",
      "Message published successfully. Data: {'confidence': 70, 'longitude': 143.0246, 'created_at': '19:58:06', 'sender_id': 'producer_2', 'latitude': -37.5865, 'surface_temperature_celcius': 45}\n",
      "Message published successfully. Data: {'confidence': 87, 'longitude': 145.8594, 'created_at': '19:58:21', 'sender_id': 'producer_2', 'latitude': -36.3332, 'surface_temperature_celcius': 90}\n",
      "Message published successfully. Data: {'confidence': 78, 'longitude': 144.15, 'created_at': '19:58:38', 'sender_id': 'producer_2', 'latitude': -36.751999999999995, 'surface_temperature_celcius': 51}\n",
      "Message published successfully. Data: {'confidence': 77, 'longitude': 141.7798, 'created_at': '19:59:04', 'sender_id': 'producer_2', 'latitude': -36.1078, 'surface_temperature_celcius': 50}\n",
      "Message published successfully. Data: {'confidence': 66, 'longitude': 142.3976, 'created_at': '19:59:16', 'sender_id': 'producer_2', 'latitude': -36.6492, 'surface_temperature_celcius': 60}\n",
      "Message published successfully. Data: {'confidence': 78, 'longitude': 143.5442, 'created_at': '19:59:35', 'sender_id': 'producer_2', 'latitude': -37.3226, 'surface_temperature_celcius': 51}\n",
      "Message published successfully. Data: {'confidence': 100, 'longitude': 140.9806, 'created_at': '19:59:45', 'sender_id': 'producer_2', 'latitude': -36.4057, 'surface_temperature_celcius': 119}\n",
      "Message published successfully. Data: {'confidence': 86, 'longitude': 144.5501, 'created_at': '20:00:04', 'sender_id': 'producer_2', 'latitude': -36.7212, 'surface_temperature_celcius': 60}\n",
      "Message published successfully. Data: {'confidence': 79, 'longitude': 145.5918, 'created_at': '20:00:27', 'sender_id': 'producer_2', 'latitude': -37.4024, 'surface_temperature_celcius': 52}\n",
      "Message published successfully. Data: {'confidence': 100, 'longitude': 147.9431, 'created_at': '20:00:46', 'sender_id': 'producer_2', 'latitude': -37.223, 'surface_temperature_celcius': 105}\n",
      "Message published successfully. Data: {'confidence': 90, 'longitude': 148.4138, 'created_at': '20:01:02', 'sender_id': 'producer_2', 'latitude': -37.7835, 'surface_temperature_celcius': 66}\n",
      "Message published successfully. Data: {'confidence': 90, 'longitude': 141.3467, 'created_at': '20:01:15', 'sender_id': 'producer_2', 'latitude': -36.2857, 'surface_temperature_celcius': 67}\n",
      "Message published successfully. Data: {'confidence': 65, 'longitude': 143.64, 'created_at': '20:01:41', 'sender_id': 'producer_2', 'latitude': -38.0525, 'surface_temperature_celcius': 43}\n",
      "Message published successfully. Data: {'confidence': 68, 'longitude': 143.8908, 'created_at': '20:02:01', 'sender_id': 'producer_2', 'latitude': -36.6306, 'surface_temperature_celcius': 44}\n",
      "Message published successfully. Data: {'confidence': 100, 'longitude': 143.0087, 'created_at': '20:02:24', 'sender_id': 'producer_2', 'latitude': -37.7269, 'surface_temperature_celcius': 114}\n"
     ]
    },
    {
     "name": "stdout",
     "output_type": "stream",
     "text": [
      "Message published successfully. Data: {'confidence': 76, 'longitude': 141.8273, 'created_at': '20:02:36', 'sender_id': 'producer_2', 'latitude': -36.3973, 'surface_temperature_celcius': 49}\n",
      "Message published successfully. Data: {'confidence': 61, 'longitude': 143.186, 'created_at': '20:03:02', 'sender_id': 'producer_2', 'latitude': -37.6659, 'surface_temperature_celcius': 41}\n",
      "Message published successfully. Data: {'confidence': 77, 'longitude': 143.3362, 'created_at': '20:03:13', 'sender_id': 'producer_2', 'latitude': -36.1648, 'surface_temperature_celcius': 55}\n",
      "Message published successfully. Data: {'confidence': 87, 'longitude': 144.1287, 'created_at': '20:03:27', 'sender_id': 'producer_2', 'latitude': -36.3933, 'surface_temperature_celcius': 63}\n",
      "Message published successfully. Data: {'confidence': 57, 'longitude': 146.0788, 'created_at': '20:03:40', 'sender_id': 'producer_2', 'latitude': -36.9733, 'surface_temperature_celcius': 40}\n",
      "Message published successfully. Data: {'confidence': 57, 'longitude': 143.1556, 'created_at': '20:04:05', 'sender_id': 'producer_2', 'latitude': -36.5245, 'surface_temperature_celcius': 43}\n",
      "Message published successfully. Data: {'confidence': 100, 'longitude': 141.0604, 'created_at': '20:04:24', 'sender_id': 'producer_2', 'latitude': -35.1857, 'surface_temperature_celcius': 92}\n"
     ]
    }
   ],
   "source": [
    "# importing required libraries\n",
    "from time import sleep\n",
    "from json import dumps\n",
    "from kafka import KafkaProducer\n",
    "import random\n",
    "import datetime as dt\n",
    "import pandas as pd\n",
    "\n",
    "\n",
    "#reading in data\n",
    "df = pd.read_csv(\"hotspot_AQUA_streaming.csv\") # using pandas library to read the data set called hotspot_AQUA_streaming.csv\n",
    "df = df.astype(\"object\") # casting the data type of the entire dataset to primitive type so that it can be converted to json.\n",
    "\n",
    "\n",
    "def publish_message(producer_instance, topic_name, data):\n",
    "    try:\n",
    "        producer_instance.send(topic_name, value=data)\n",
    "        print('Message published successfully. Data: ' + str(data))\n",
    "    except Exception as ex:\n",
    "        print('Exception in publishing message.')\n",
    "        print(str(ex))\n",
    "        \n",
    "def connect_kafka_producer():\n",
    "    _producer = None\n",
    "    try:\n",
    "        _producer = KafkaProducer(bootstrap_servers=['localhost:9092'],\n",
    "                                  value_serializer=lambda x: dumps(x).encode('ascii'),\n",
    "                                  api_version=(0, 10))\n",
    "    except Exception as ex:\n",
    "        print('Exception while connecting Kafka.')\n",
    "        print(str(ex))\n",
    "    finally:\n",
    "        return _producer\n",
    "    \n",
    "if __name__ == '__main__':\n",
    "   \n",
    "    topic = 'hotspot'# to create partitioning of data based on this topic in Kafka cluster\n",
    "                    # all three producers belong to the same topic 'hotspot'\n",
    "    print('Publishing records..')\n",
    "    producer = connect_kafka_producer()\n",
    "\n",
    "    \n",
    "    while True:\n",
    "        r = random.randint(0,len(df)-1)\n",
    "        # Appending sender_id and created_time:\n",
    "        data = df.loc[r].append(pd.Series({\"created_at\":dt.datetime.now().strftime(\"%X\"), \"sender_id\": \"producer_2\"}))\n",
    "        data = data.to_dict()\n",
    "        publish_message(producer,topic,data)\n",
    "        # To feed the data to the stream every 10 to 30 seconds:\n",
    "        sleep(random.randint(10,30))"
   ]
  }
 ],
 "metadata": {
  "kernelspec": {
   "display_name": "Python 3",
   "language": "python",
   "name": "python3"
  },
  "language_info": {
   "codemirror_mode": {
    "name": "ipython",
    "version": 3
   },
   "file_extension": ".py",
   "mimetype": "text/x-python",
   "name": "python",
   "nbconvert_exporter": "python",
   "pygments_lexer": "ipython3",
   "version": "3.7.0"
  }
 },
 "nbformat": 4,
 "nbformat_minor": 2
}
