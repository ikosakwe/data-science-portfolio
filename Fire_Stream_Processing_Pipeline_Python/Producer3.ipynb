{
 "cells": [
  {
   "cell_type": "markdown",
   "metadata": {},
   "source": [
    "# Simulating real-time data using Apache Kafka Producers.\n",
    "\n",
    "In this section we will implement multiple Apache Kafka producers to simulate the real-time streaming of the data which will be processed by Apache Spark Streaming client and then inserted into MongoDB. \n",
    "\n",
    "Description: A python program that load all the data from hotspot_TERRA_streaming.csv and randomly feed the data to the stream every 10 to 30   seconds. TERRA is another satellite from NASA that reports latitude, longitude, confidence and surface temperature of a location. Some additional information such as sender_id and created_time are also appended."
   ]
  },
  {
   "cell_type": "code",
   "execution_count": null,
   "metadata": {
    "scrolled": true
   },
   "outputs": [
    {
     "name": "stdout",
     "output_type": "stream",
     "text": [
      "Publishing records..\n",
      "Message published successfully. Data: {'confidence': 66, 'created_at': '19:48:29', 'surface_temperature_celcius': 53, 'longitude': 142.1573, 'latitude': -37.7069, 'sender_id': 'producer_3'}\n",
      "Message published successfully. Data: {'confidence': 76, 'created_at': '19:48:51', 'surface_temperature_celcius': 50, 'longitude': 141.6103, 'latitude': -37.7126, 'sender_id': 'producer_3'}\n",
      "Message published successfully. Data: {'confidence': 100, 'created_at': '19:49:08', 'surface_temperature_celcius': 95, 'longitude': 141.0013, 'latitude': -36.9034, 'sender_id': 'producer_3'}\n",
      "Message published successfully. Data: {'confidence': 72, 'created_at': '19:49:23', 'surface_temperature_celcius': 56, 'longitude': 147.0408, 'latitude': -38.3525, 'sender_id': 'producer_3'}\n",
      "Message published successfully. Data: {'confidence': 87, 'created_at': '19:49:50', 'surface_temperature_celcius': 63, 'longitude': 145.7664, 'latitude': -36.1036, 'sender_id': 'producer_3'}\n",
      "Message published successfully. Data: {'confidence': 78, 'created_at': '19:50:09', 'surface_temperature_celcius': 51, 'longitude': 143.1601, 'latitude': -37.7505, 'sender_id': 'producer_3'}\n",
      "Message published successfully. Data: {'confidence': 83, 'created_at': '19:50:31', 'surface_temperature_celcius': 56, 'longitude': 141.089, 'latitude': -35.961, 'sender_id': 'producer_3'}\n",
      "Message published successfully. Data: {'confidence': 76, 'created_at': '19:50:53', 'surface_temperature_celcius': 38, 'longitude': 146.2408, 'latitude': -37.2162, 'sender_id': 'producer_3'}\n",
      "Message published successfully. Data: {'confidence': 68, 'created_at': '19:51:09', 'surface_temperature_celcius': 44, 'longitude': 143.195, 'latitude': -35.7937, 'sender_id': 'producer_3'}\n",
      "Message published successfully. Data: {'confidence': 62, 'created_at': '19:51:34', 'surface_temperature_celcius': 45, 'longitude': 141.2781, 'latitude': -37.6161, 'sender_id': 'producer_3'}\n",
      "Message published successfully. Data: {'confidence': 86, 'created_at': '19:51:46', 'surface_temperature_celcius': 60, 'longitude': 145.9308, 'latitude': -36.3178, 'sender_id': 'producer_3'}\n",
      "Message published successfully. Data: {'confidence': 92, 'created_at': '19:51:58', 'surface_temperature_celcius': 43, 'longitude': 147.12, 'latitude': -36.762, 'sender_id': 'producer_3'}\n",
      "Message published successfully. Data: {'confidence': 58, 'created_at': '19:52:16', 'surface_temperature_celcius': 40, 'longitude': 144.4747, 'latitude': -36.4713, 'sender_id': 'producer_3'}\n",
      "Message published successfully. Data: {'confidence': 74, 'created_at': '19:52:41', 'surface_temperature_celcius': 48, 'longitude': 146.3188, 'latitude': -38.4412, 'sender_id': 'producer_3'}\n",
      "Message published successfully. Data: {'confidence': 75, 'created_at': '19:53:07', 'surface_temperature_celcius': 49, 'longitude': 145.3684, 'latitude': -37.0704, 'sender_id': 'producer_3'}\n",
      "Message published successfully. Data: {'confidence': 95, 'created_at': '19:53:27', 'surface_temperature_celcius': 76, 'longitude': 143.203, 'latitude': -36.3014, 'sender_id': 'producer_3'}\n",
      "Message published successfully. Data: {'confidence': 58, 'created_at': '19:53:51', 'surface_temperature_celcius': 40, 'longitude': 141.1145, 'latitude': -36.2635, 'sender_id': 'producer_3'}\n",
      "Message published successfully. Data: {'confidence': 68, 'created_at': '19:54:05', 'surface_temperature_celcius': 44, 'longitude': 143.8953, 'latitude': -36.9986, 'sender_id': 'producer_3'}\n",
      "Message published successfully. Data: {'confidence': 91, 'created_at': '19:54:29', 'surface_temperature_celcius': 69, 'longitude': 145.3649, 'latitude': -36.2637, 'sender_id': 'producer_3'}\n",
      "Message published successfully. Data: {'confidence': 59, 'created_at': '19:54:58', 'surface_temperature_celcius': 40, 'longitude': 141.8673, 'latitude': -36.7063, 'sender_id': 'producer_3'}\n",
      "Message published successfully. Data: {'confidence': 78, 'created_at': '19:55:26', 'surface_temperature_celcius': 51, 'longitude': 143.7313, 'latitude': -36.3782, 'sender_id': 'producer_3'}\n",
      "Message published successfully. Data: {'confidence': 72, 'created_at': '19:55:43', 'surface_temperature_celcius': 40, 'longitude': 143.41299999999998, 'latitude': -37.249, 'sender_id': 'producer_3'}\n",
      "Message published successfully. Data: {'confidence': 80, 'created_at': '19:56:08', 'surface_temperature_celcius': 54, 'longitude': 141.1436, 'latitude': -36.4309, 'sender_id': 'producer_3'}\n",
      "Message published successfully. Data: {'confidence': 82, 'created_at': '19:56:34', 'surface_temperature_celcius': 55, 'longitude': 145.3614, 'latitude': -37.0636, 'sender_id': 'producer_3'}\n",
      "Message published successfully. Data: {'confidence': 90, 'created_at': '19:56:56', 'surface_temperature_celcius': 67, 'longitude': 142.2098, 'latitude': -36.8835, 'sender_id': 'producer_3'}\n",
      "Message published successfully. Data: {'confidence': 77, 'created_at': '19:57:20', 'surface_temperature_celcius': 56, 'longitude': 148.6047, 'latitude': -37.7105, 'sender_id': 'producer_3'}\n",
      "Message published successfully. Data: {'confidence': 53, 'created_at': '19:57:50', 'surface_temperature_celcius': 39, 'longitude': 142.1373, 'latitude': -37.7504, 'sender_id': 'producer_3'}\n",
      "Message published successfully. Data: {'confidence': 62, 'created_at': '19:58:18', 'surface_temperature_celcius': 54, 'longitude': 142.8636, 'latitude': -37.5052, 'sender_id': 'producer_3'}\n",
      "Message published successfully. Data: {'confidence': 94, 'created_at': '19:58:30', 'surface_temperature_celcius': 75, 'longitude': 142.7374, 'latitude': -37.5812, 'sender_id': 'producer_3'}\n",
      "Message published successfully. Data: {'confidence': 70, 'created_at': '19:58:44', 'surface_temperature_celcius': 45, 'longitude': 144.0114, 'latitude': -36.801, 'sender_id': 'producer_3'}\n",
      "Message published successfully. Data: {'confidence': 61, 'created_at': '19:59:08', 'surface_temperature_celcius': 41, 'longitude': 141.1083, 'latitude': -37.2054, 'sender_id': 'producer_3'}\n",
      "Message published successfully. Data: {'confidence': 79, 'created_at': '19:59:35', 'surface_temperature_celcius': 52, 'longitude': 142.0625, 'latitude': -34.2432, 'sender_id': 'producer_3'}\n",
      "Message published successfully. Data: {'confidence': 58, 'created_at': '20:00:02', 'surface_temperature_celcius': 40, 'longitude': 143.5322, 'latitude': -37.4857, 'sender_id': 'producer_3'}\n",
      "Message published successfully. Data: {'confidence': 59, 'created_at': '20:00:27', 'surface_temperature_celcius': 40, 'longitude': 146.2162, 'latitude': -37.6994, 'sender_id': 'producer_3'}\n",
      "Message published successfully. Data: {'confidence': 69, 'created_at': '20:00:48', 'surface_temperature_celcius': 46, 'longitude': 141.4172, 'latitude': -36.4422, 'sender_id': 'producer_3'}\n",
      "Message published successfully. Data: {'confidence': 59, 'created_at': '20:01:09', 'surface_temperature_celcius': 40, 'longitude': 144.4307, 'latitude': -38.0383, 'sender_id': 'producer_3'}\n",
      "Message published successfully. Data: {'confidence': 88, 'created_at': '20:01:22', 'surface_temperature_celcius': 64, 'longitude': 141.5733, 'latitude': -36.3415, 'sender_id': 'producer_3'}\n",
      "Message published successfully. Data: {'confidence': 71, 'created_at': '20:01:44', 'surface_temperature_celcius': 46, 'longitude': 143.0551, 'latitude': -37.5268, 'sender_id': 'producer_3'}\n",
      "Message published successfully. Data: {'confidence': 53, 'created_at': '20:02:10', 'surface_temperature_celcius': 39, 'longitude': 143.6199, 'latitude': -37.9422, 'sender_id': 'producer_3'}\n",
      "Message published successfully. Data: {'confidence': 92, 'created_at': '20:02:21', 'surface_temperature_celcius': 70, 'longitude': 145.3769, 'latitude': -36.2652, 'sender_id': 'producer_3'}\n",
      "Message published successfully. Data: {'confidence': 75, 'created_at': '20:02:44', 'surface_temperature_celcius': 49, 'longitude': 143.3652, 'latitude': -37.8717, 'sender_id': 'producer_3'}\n",
      "Message published successfully. Data: {'confidence': 76, 'created_at': '20:02:54', 'surface_temperature_celcius': 56, 'longitude': 141.543, 'latitude': -34.3383, 'sender_id': 'producer_3'}\n",
      "Message published successfully. Data: {'confidence': 96, 'created_at': '20:03:20', 'surface_temperature_celcius': 79, 'longitude': 141.1741, 'latitude': -36.2842, 'sender_id': 'producer_3'}\n",
      "Message published successfully. Data: {'confidence': 51, 'created_at': '20:03:49', 'surface_temperature_celcius': 44, 'longitude': 143.5903, 'latitude': -37.2794, 'sender_id': 'producer_3'}\n"
     ]
    },
    {
     "name": "stdout",
     "output_type": "stream",
     "text": [
      "Message published successfully. Data: {'confidence': 100, 'created_at': '20:04:02', 'surface_temperature_celcius': 84, 'longitude': 148.08100000000002, 'latitude': -37.399, 'sender_id': 'producer_3'}\n",
      "Message published successfully. Data: {'confidence': 77, 'created_at': '20:04:18', 'surface_temperature_celcius': 50, 'longitude': 143.4714, 'latitude': -37.5304, 'sender_id': 'producer_3'}\n"
     ]
    }
   ],
   "source": [
    "# importing required libraries\n",
    "from time import sleep\n",
    "from json import dumps\n",
    "from kafka import KafkaProducer\n",
    "import random\n",
    "import datetime as dt\n",
    "import pandas as pd\n",
    "\n",
    "\n",
    "#reading in data\n",
    "df = pd.read_csv(\"hotspot_TERRA_streaming.csv\") # using pandas library to read the data set called hotspot_AQUA_streaming.csv\n",
    "df = df.astype(\"object\") # casting the data type of the entire dataset to primitive type so that it can be converted to json.\n",
    "\n",
    "\n",
    "def publish_message(producer_instance, topic_name, data):\n",
    "    try:\n",
    "        producer_instance.send(topic_name, value=data)\n",
    "        print('Message published successfully. Data: ' + str(data))\n",
    "    except Exception as ex:\n",
    "        print('Exception in publishing message.')\n",
    "        print(str(ex))\n",
    "        \n",
    "def connect_kafka_producer():\n",
    "    _producer = None\n",
    "    try:\n",
    "        _producer = KafkaProducer(bootstrap_servers=['localhost:9092'],\n",
    "                                  value_serializer=lambda x: dumps(x).encode('ascii'),\n",
    "                                  api_version=(0, 10))\n",
    "    except Exception as ex:\n",
    "        print('Exception while connecting Kafka.')\n",
    "        print(str(ex))\n",
    "    finally:\n",
    "        return _producer\n",
    "    \n",
    "if __name__ == '__main__':\n",
    "   \n",
    "    topic = 'hotspot'# to create partitioning of data based on this topic in Kafka cluster\n",
    "                    # all three producers belong to the same topic 'hotspot'\n",
    "    print('Publishing records..')\n",
    "    producer = connect_kafka_producer()\n",
    "\n",
    "    \n",
    "    while True:\n",
    "        r = random.randint(0,len(df)-1)\n",
    "         # Appending sender_id and created_time:\n",
    "        data = df.loc[r].append(pd.Series({\"created_at\":dt.datetime.now().strftime(\"%X\"), \"sender_id\": \"producer_3\"}))\n",
    "        data = data.to_dict()\n",
    "        publish_message(producer,topic,data)\n",
    "        # To feed the data to the stream every 10 to 30 seconds:\n",
    "        sleep(random.randint(10,30))"
   ]
  },
  {
   "cell_type": "code",
   "execution_count": null,
   "metadata": {},
   "outputs": [],
   "source": []
  }
 ],
 "metadata": {
  "kernelspec": {
   "display_name": "Python 3",
   "language": "python",
   "name": "python3"
  },
  "language_info": {
   "codemirror_mode": {
    "name": "ipython",
    "version": 3
   },
   "file_extension": ".py",
   "mimetype": "text/x-python",
   "name": "python",
   "nbconvert_exporter": "python",
   "pygments_lexer": "ipython3",
   "version": "3.7.0"
  }
 },
 "nbformat": 4,
 "nbformat_minor": 2
}
